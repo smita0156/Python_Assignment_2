{
 "cells": [
  {
   "cell_type": "code",
   "execution_count": null,
   "id": "a584bbe1-e358-4174-8f9f-cab07444b3b7",
   "metadata": {},
   "outputs": [],
   "source": [
    "Ans1. # True and False, using capital T and F ."
   ]
  },
  {
   "cell_type": "code",
   "execution_count": null,
   "id": "84b6fa71-c9c1-499e-bb01-3db19c79df74",
   "metadata": {},
   "outputs": [],
   "source": [
    "Ans1.# #Eg:\n",
    "a=True\n",
    "b=False\n",
    "print(a)\n",
    "print(b)"
   ]
  },
  {
   "cell_type": "code",
   "execution_count": null,
   "id": "1a7b79eb-45e5-4c26-afb7-883771c4372c",
   "metadata": {},
   "outputs": [],
   "source": [
    "True\n",
    "False"
   ]
  },
  {
   "cell_type": "code",
   "execution_count": null,
   "id": "b6e1568c-5d5f-4c10-9513-5a3daa9e1126",
   "metadata": {},
   "outputs": [],
   "source": []
  },
  {
   "cell_type": "code",
   "execution_count": null,
   "id": "3f1d13e7-d63a-4446-9c94-a5d5be07aa8f",
   "metadata": {},
   "outputs": [],
   "source": [
    "Ans2. # Boolean operators are the words \"AND\", \"OR\" and \"NOT\""
   ]
  },
  {
   "cell_type": "code",
   "execution_count": null,
   "id": "bf731928-bf81-4d25-9e1b-8bcc565dfc23",
   "metadata": {},
   "outputs": [],
   "source": []
  },
  {
   "cell_type": "code",
   "execution_count": null,
   "id": "fb25df0d-aaa3-4386-9dd4-8edea6afefe2",
   "metadata": {},
   "outputs": [],
   "source": [
    "Ans3.# True and True is True.\n",
    "\n",
    "True and False is False.\n",
    "\n",
    "False and True is False.\n",
    "\n",
    "False and False is False.\n",
    "\n",
    "True or True is True.\n",
    "\n",
    "True or False is True.\n",
    "\n",
    "False or True is True.\n",
    "\n",
    "False or False is False.\n",
    "\n",
    "not True is False.\n",
    "\n",
    "not False is True."
   ]
  },
  {
   "cell_type": "code",
   "execution_count": null,
   "id": "7264a087-54a7-4688-9157-567e3e3653ca",
   "metadata": {},
   "outputs": [],
   "source": [
    "Ans3.# True is 1 and False is 0\n",
    "Truth Table for AND\n",
    "A B output\n",
    "0 0 0\n",
    "0 1 0\n",
    "1 0 0\n",
    "1 1 1\n",
    "Truth Table for OR\n",
    "A B output\n",
    "0 0 0\n",
    "0 1 1\n",
    "1 0 1\n",
    "1 1 1\n",
    "Truth Table for NOT\n",
    "A output\n",
    "0 1\n",
    "1 0"
   ]
  },
  {
   "cell_type": "code",
   "execution_count": null,
   "id": "267b2f40-c95f-4542-9a55-8f3c1d4e35e0",
   "metadata": {},
   "outputs": [],
   "source": []
  },
  {
   "cell_type": "code",
   "execution_count": null,
   "id": "9b4efb04-191a-40c9-ac40-b4105bab8e9c",
   "metadata": {},
   "outputs": [],
   "source": [
    "Ans4. #print((5>4) and (3==5))\n",
    "print(not(5>4))\n",
    "print((5>4) or (3==5))\n",
    "print(not(5>4) or (3==5))\n",
    "print((True and True) and (True==False))\n",
    "print((not(False))or(not(True)))"
   ]
  },
  {
   "cell_type": "code",
   "execution_count": null,
   "id": "1c972500-4ea0-45f7-8cba-99eaaf8441e0",
   "metadata": {},
   "outputs": [],
   "source": [
    "Ans4. # False\n",
    "False\n",
    "True\n",
    "False\n",
    "False\n",
    "True"
   ]
  },
  {
   "cell_type": "code",
   "execution_count": null,
   "id": "b144db0b-806c-4fae-84ac-ad24fdbeb3ec",
   "metadata": {},
   "outputs": [],
   "source": []
  },
  {
   "cell_type": "code",
   "execution_count": null,
   "id": "e811da50-ac61-4772-9cc6-ffac31eb3da0",
   "metadata": {},
   "outputs": [],
   "source": [
    "Ans5.# ==, !=, <, >, <=, and >="
   ]
  },
  {
   "cell_type": "code",
   "execution_count": null,
   "id": "8a3d640c-db18-4ccf-ba1a-da7384d2ccdf",
   "metadata": {},
   "outputs": [],
   "source": []
  },
  {
   "cell_type": "code",
   "execution_count": null,
   "id": "a1009be1-3ed8-44f2-b8e0-debf35f8862c",
   "metadata": {},
   "outputs": [],
   "source": [
    "Ans6. # == is the equal to operator that compares two values and evaluates to a Boolean, while = is the assignment operator that stores a value in a variable."
   ]
  },
  {
   "cell_type": "code",
   "execution_count": null,
   "id": "88e78f70-270c-4d73-95c8-09ac5d97ac83",
   "metadata": {},
   "outputs": [],
   "source": [
    "#eg.\n",
    "\n",
    "# Equal To Operator\n",
    "if(2==3):\n",
    "    print(\"True\")\n",
    "else:\n",
    "    print(\"False\")\n",
    "#Assignment operator\n",
    "c=1 #here we have used assignment operator(=) to assign value of c which is 1\n",
    "print(\"c =\",c)"
   ]
  },
  {
   "cell_type": "code",
   "execution_count": null,
   "id": "c8b7f3c3-971a-4146-9c55-46d04d04479d",
   "metadata": {},
   "outputs": [],
   "source": [
    "False\n",
    "c = 1"
   ]
  },
  {
   "cell_type": "code",
   "execution_count": null,
   "id": "42cfd21b-6c2d-4bdd-87e7-5be7ea39a38a",
   "metadata": {},
   "outputs": [],
   "source": []
  },
  {
   "cell_type": "code",
   "execution_count": null,
   "id": "8449ce53-a638-49b1-ae93-ddcddab592e9",
   "metadata": {},
   "outputs": [],
   "source": [
    "Ans7. #spam = 0\n",
    "if spam == 10:\n",
    "    print('eggs') #Block 1\n",
    "if spam > 5:\n",
    "    print('bacon') #Block 2\n",
    "else:\n",
    "    print('ham') #Block 3\n",
    "    print('spam')\n",
    "    print('spam')"
   ]
  },
  {
   "cell_type": "code",
   "execution_count": null,
   "id": "32d90e57-8ce6-4424-9433-141d752cf493",
   "metadata": {},
   "outputs": [],
   "source": [
    "ham\n",
    "spam\n",
    "spam"
   ]
  },
  {
   "cell_type": "code",
   "execution_count": null,
   "id": "d516de6a-d98b-4dc9-800f-7f9a617aff7e",
   "metadata": {},
   "outputs": [],
   "source": []
  },
  {
   "cell_type": "code",
   "execution_count": null,
   "id": "91a8c236-14d1-4beb-8f82-b80f59dfcb92",
   "metadata": {},
   "outputs": [],
   "source": [
    "Ans8. # spam = int(input(\"Input a no.\"))\n",
    "if spam == 1:\n",
    "    print(\"Hello\")\n",
    "elif spam == 2:\n",
    "    print(\"Howdy\")\n",
    "else:\n",
    "    print(\"Greetings!\")\n",
    "        "
   ]
  },
  {
   "cell_type": "code",
   "execution_count": null,
   "id": "cf379ad6-642a-4b49-85b0-77334f7d7a91",
   "metadata": {},
   "outputs": [],
   "source": [
    "Input a no.2\n",
    "Howdy"
   ]
  }
 ],
 "metadata": {
  "kernelspec": {
   "display_name": "Python 3 (ipykernel)",
   "language": "python",
   "name": "python3"
  },
  "language_info": {
   "codemirror_mode": {
    "name": "ipython",
    "version": 3
   },
   "file_extension": ".py",
   "mimetype": "text/x-python",
   "name": "python",
   "nbconvert_exporter": "python",
   "pygments_lexer": "ipython3",
   "version": "3.10.6"
  }
 },
 "nbformat": 4,
 "nbformat_minor": 5
}
